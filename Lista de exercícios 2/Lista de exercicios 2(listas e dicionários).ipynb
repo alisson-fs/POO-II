{
 "cells": [
  {
   "cell_type": "markdown",
   "metadata": {},
   "source": [
    "## Lista de exercicios 2:\n",
    "#### Aluno: Alisson Fabra da Silva\n",
    "#### Matricula: 19200409\n",
    "---\n",
    "#### Listas:\n",
    "\n",
    "**Exercício 1.** Faça um Programa que leia um vetor de 5 números inteiros e mostre-os."
   ]
  },
  {
   "cell_type": "code",
   "execution_count": 13,
   "metadata": {},
   "outputs": [
    {
     "name": "stdout",
     "output_type": "stream",
     "text": [
      "[1, 2, 3, 4, 5]\n"
     ]
    }
   ],
   "source": [
    "vetor = [1, 2, 3, 4, 5]\n",
    "print(vetor)"
   ]
  },
  {
   "cell_type": "markdown",
   "metadata": {},
   "source": [
    "**Exercício 2.** Faça um Programa que leia um vetor de 10 números reais e mostre-os na ordem inversa."
   ]
  },
  {
   "cell_type": "code",
   "execution_count": 3,
   "metadata": {},
   "outputs": [
    {
     "name": "stdout",
     "output_type": "stream",
     "text": [
      "[10, 9, 8, 7, 6, 5, 4, 3, 2, 1]\n"
     ]
    }
   ],
   "source": [
    "vetor = [1, 2, 3, 4, 5, 6, 7, 8, 9, 10]\n",
    "print(vetor[::-1])"
   ]
  },
  {
   "cell_type": "markdown",
   "metadata": {},
   "source": [
    "**Exercício 3.** Faça um Programa que leia 4 notas, mostre as notas e a média na tela."
   ]
  },
  {
   "cell_type": "code",
   "execution_count": 4,
   "metadata": {},
   "outputs": [
    {
     "name": "stdout",
     "output_type": "stream",
     "text": [
      "Nota 1: 6\n",
      "Nota 2: 8\n",
      "Nota 3: 10\n",
      "Nota 4: 4\n",
      "Média = 7.0\n"
     ]
    }
   ],
   "source": [
    "notas = [6, 8, 10, 4]\n",
    "soma = 0\n",
    "for i in range(len(notas)):\n",
    "    print(f'Nota {i + 1}: {notas[i]}')\n",
    "    soma += notas[i]\n",
    "print(f'Média = {soma / len(notas)}')"
   ]
  },
  {
   "cell_type": "markdown",
   "metadata": {},
   "source": [
    "**Exercício 4.** Faça um Programa que leia um vetor de 10 caracteres, e diga quantas consoantes foram lidas. Imprima as consoantes."
   ]
  },
  {
   "cell_type": "code",
   "execution_count": 12,
   "metadata": {},
   "outputs": [
    {
     "name": "stdout",
     "output_type": "stream",
     "text": [
      "Quantidade de consoantes: 6 \n",
      "Consoantes: ['B', 'C', 'D', 'F', 'G', 'H']\n"
     ]
    }
   ],
   "source": [
    "vetor = ['A', 'B', 'C', 'D', 'E', 'F', 'G', 'H', 'I', 0]\n",
    "consoantes = ['B', 'C', 'D', 'F', 'G', 'H', 'J', 'K', 'L', 'M', 'N', 'P', 'Q', 'R', 'S', 'T', 'V', 'W', 'X', 'Y', 'Z']\n",
    "consoantes_vetor = []\n",
    "count_consoantes = 0\n",
    "for i in vetor:\n",
    "    if i in consoantes:\n",
    "        if i not in consoantes_vetor:\n",
    "            consoantes_vetor.append(i)\n",
    "            count_consoantes += 1\n",
    "print(f'Quantidade de consoantes: {count_consoantes} \\nConsoantes: {consoantes_vetor}')"
   ]
  },
  {
   "cell_type": "markdown",
   "metadata": {},
   "source": [
    "**Exercício 5.** Faça um Programa que leia 20 números inteiros e armazene-os num vetor. Armazene os números pares no vetor PAR e os números IMPARES no vetor impar. Imprima os três vetores."
   ]
  },
  {
   "cell_type": "code",
   "execution_count": 15,
   "metadata": {},
   "outputs": [
    {
     "name": "stdin",
     "output_type": "stream",
     "text": [
      "Número: 1\n",
      "Número: 2\n",
      "Número: 3\n",
      "Número: 4\n",
      "Número: 5\n",
      "Número: 6\n",
      "Número: 7\n",
      "Número: 8\n",
      "Número: 9\n",
      "Número: 10\n",
      "Número: 11\n",
      "Número: 12\n",
      "Número: 13\n",
      "Número: 14\n",
      "Número: 15\n",
      "Número: 16\n",
      "Número: 17\n",
      "Número: 18\n",
      "Número: 19\n",
      "Número: 20\n"
     ]
    },
    {
     "name": "stdout",
     "output_type": "stream",
     "text": [
      "Inteiros: [1, 2, 3, 4, 5, 6, 7, 8, 9, 10, 11, 12, 13, 14, 15, 16, 17, 18, 19, 20] \n",
      "Pares: [2, 4, 6, 8, 10, 12, 14, 16, 18, 20] \n",
      "Impares: [1, 3, 5, 7, 9, 11, 13, 15, 17, 19]\n"
     ]
    }
   ],
   "source": [
    "inteiros = []\n",
    "pares = []\n",
    "impares = []\n",
    "for i in range(20):\n",
    "    valor = int(input('Número:'))\n",
    "    inteiros.append(valor)\n",
    "    if valor % 2 == 0:\n",
    "        pares.append(valor)\n",
    "    else:\n",
    "        impares.append(valor)\n",
    "\n",
    "print(f'Inteiros: {inteiros} \\nPares: {pares} \\nImpares: {impares}')"
   ]
  },
  {
   "cell_type": "markdown",
   "metadata": {},
   "source": [
    "**Exercício 6.** Faça um Programa que peça as quatro notas de 10 alunos, calcule e armazene num vetor a média de cada aluno, imprima o número de alunos com média maior ou igual a 7.0."
   ]
  },
  {
   "cell_type": "code",
   "execution_count": 17,
   "metadata": {},
   "outputs": [
    {
     "name": "stdout",
     "output_type": "stream",
     "text": [
      "Número de alunos com nota maior ou igual a 7: 1\n",
      "[3.75, 4.75, 5.75, 4.75, 3.25, 4.25, 5.75, 4.75, 6.5, 7.0]\n"
     ]
    }
   ],
   "source": [
    "from random import randint\n",
    "media_alunos = []\n",
    "count_media7 = 0\n",
    "for i in range(10):\n",
    "    soma = 0\n",
    "    for j in range(4):\n",
    "        soma += randint(0,10)\n",
    "    media_alunos.append(soma/4)\n",
    "for k in media_alunos:\n",
    "    if k >= 7:\n",
    "        count_media7 += 1\n",
    "print(f'Número de alunos com nota maior ou igual a 7: {count_media7}')\n",
    "print(media_alunos)"
   ]
  },
  {
   "cell_type": "markdown",
   "metadata": {},
   "source": [
    "**Exercício 7.** Faça um Programa que leia um vetor de 5 números inteiros, mostre a soma, a multiplicação e os números."
   ]
  },
  {
   "cell_type": "code",
   "execution_count": 19,
   "metadata": {},
   "outputs": [
    {
     "name": "stdout",
     "output_type": "stream",
     "text": [
      "Soma: 15 \n",
      "Multiplicação: 120 \n",
      "Números: [1, 2, 3, 4, 5]\n"
     ]
    }
   ],
   "source": [
    "vetor = [1, 2, 3, 4, 5]\n",
    "soma = 0\n",
    "multiplicacao = 1\n",
    "for i in vetor:\n",
    "    soma += i\n",
    "    multiplicacao *= i\n",
    "print(f'Soma: {soma} \\nMultiplicação: {multiplicacao} \\nNúmeros: {vetor}')"
   ]
  },
  {
   "cell_type": "markdown",
   "metadata": {},
   "source": [
    "**Exercício 8.** Faça um Programa que peça a idade e a altura de 5 pessoas, armazene cada informação no seu respectivo vetor. Imprima a idade e a altura na ordem inversa a ordem lida."
   ]
  },
  {
   "cell_type": "code",
   "execution_count": 20,
   "metadata": {},
   "outputs": [
    {
     "name": "stdout",
     "output_type": "stream",
     "text": [
      "Pessoa 1\n"
     ]
    },
    {
     "name": "stdin",
     "output_type": "stream",
     "text": [
      "Idade: 18\n",
      "Altura: 160\n"
     ]
    },
    {
     "name": "stdout",
     "output_type": "stream",
     "text": [
      "Pessoa 2\n"
     ]
    },
    {
     "name": "stdin",
     "output_type": "stream",
     "text": [
      "Idade: 19\n",
      "Altura: 170\n"
     ]
    },
    {
     "name": "stdout",
     "output_type": "stream",
     "text": [
      "Pessoa 3\n"
     ]
    },
    {
     "name": "stdin",
     "output_type": "stream",
     "text": [
      "Idade: 20\n",
      "Altura: 180\n"
     ]
    },
    {
     "name": "stdout",
     "output_type": "stream",
     "text": [
      "Pessoa 4\n"
     ]
    },
    {
     "name": "stdin",
     "output_type": "stream",
     "text": [
      "Idade: 21\n",
      "Altura: 175\n"
     ]
    },
    {
     "name": "stdout",
     "output_type": "stream",
     "text": [
      "Pessoa 5\n"
     ]
    },
    {
     "name": "stdin",
     "output_type": "stream",
     "text": [
      "Idade: 17\n",
      "Altura: 173\n"
     ]
    },
    {
     "name": "stdout",
     "output_type": "stream",
     "text": [
      "Idades na ordem inversa: [17, 21, 20, 19, 18]\n",
      "Alturas na ordem inversa: [173.0, 175.0, 180.0, 170.0, 160.0]\n"
     ]
    }
   ],
   "source": [
    "idades = []\n",
    "alturas = []\n",
    "for i in range(5):\n",
    "    print(f'Pessoa {i + 1}')\n",
    "    idade = int(input('Idade:'))\n",
    "    altura = float(input('Altura:'))\n",
    "    idades.append(idade)\n",
    "    alturas.append(altura)\n",
    "print(f'Idades na ordem inversa: {idades[::-1]}')\n",
    "print(f'Alturas na ordem inversa: {alturas[::-1]}')"
   ]
  },
  {
   "cell_type": "markdown",
   "metadata": {},
   "source": [
    "**Exercício 9.** Faça um Programa que leia um vetor A com 10 números inteiros, calcule e mostre a soma dos quadrados dos elementos do vetor."
   ]
  },
  {
   "cell_type": "code",
   "execution_count": 21,
   "metadata": {},
   "outputs": [
    {
     "name": "stdout",
     "output_type": "stream",
     "text": [
      "Soma dos quadrados dos elementos de A: 385\n"
     ]
    }
   ],
   "source": [
    "A = [1, 2, 3, 4, 5, 6, 7, 8, 9, 10]\n",
    "soma = 0\n",
    "for i in A:\n",
    "    soma += i ** 2\n",
    "print(f'Soma dos quadrados dos elementos de A: {soma}')"
   ]
  },
  {
   "cell_type": "markdown",
   "metadata": {},
   "source": [
    "**Exercício 10.** Faça um Programa que leia dois vetores com 10 elementos cada. Gere um terceiro vetor de 20 elementos, cujos valores deverão ser compostos pelos elementos intercalados dos dois outros vetores."
   ]
  },
  {
   "cell_type": "code",
   "execution_count": 22,
   "metadata": {},
   "outputs": [
    {
     "name": "stdout",
     "output_type": "stream",
     "text": [
      "Vetor 1: [1, 3, 5, 7, 9, 11, 13, 15, 17, 19] \n",
      "Vetor 2: [2, 4, 6, 8, 10, 12, 14, 16, 18, 20] \n",
      "Vetor 3: [1, 2, 3, 4, 5, 6, 7, 8, 9, 10, 11, 12, 13, 14, 15, 16, 17, 18, 19, 20]\n"
     ]
    }
   ],
   "source": [
    "vetor1 = [1, 3, 5, 7, 9, 11, 13, 15, 17, 19]\n",
    "vetor2 = [2, 4, 6, 8, 10, 12, 14, 16, 18, 20]\n",
    "vetor3 = []\n",
    "for i in range(10):\n",
    "    vetor3.append(vetor1[i])\n",
    "    vetor3.append(vetor2[i])\n",
    "print(f'Vetor 1: {vetor1} \\nVetor 2: {vetor2} \\nVetor 3: {vetor3}')"
   ]
  },
  {
   "cell_type": "markdown",
   "metadata": {},
   "source": [
    "**Exercício 11.** Altere o programa anterior, intercalando 3 vetores de 10 elementos cada."
   ]
  },
  {
   "cell_type": "code",
   "execution_count": 23,
   "metadata": {},
   "outputs": [
    {
     "name": "stdout",
     "output_type": "stream",
     "text": [
      "Vetor 1: [1, 3, 5, 7, 9, 11, 13, 15, 17, 19] \n",
      "Vetor 2: [2, 4, 6, 8, 10, 12, 14, 16, 18, 20] \n",
      "Vetor 3: ['A', 'B', 'C', 'D', 'E', 'F', 'G', 'H', 'I', 'J'] \n",
      "Vetor 4: [1, 2, 'A', 3, 4, 'B', 5, 6, 'C', 7, 8, 'D', 9, 10, 'E', 11, 12, 'F', 13, 14, 'G', 15, 16, 'H', 17, 18, 'I', 19, 20, 'J']\n"
     ]
    }
   ],
   "source": [
    "vetor1 = [1, 3, 5, 7, 9, 11, 13, 15, 17, 19]\n",
    "vetor2 = [2, 4, 6, 8, 10, 12, 14, 16, 18, 20]\n",
    "vetor3 = ['A', 'B', 'C', 'D', 'E', 'F', 'G', 'H', 'I', 'J']\n",
    "vetor4 = []\n",
    "for i in range(10):\n",
    "    vetor4.append(vetor1[i])\n",
    "    vetor4.append(vetor2[i])\n",
    "    vetor4.append(vetor3[i])\n",
    "print(f'Vetor 1: {vetor1} \\nVetor 2: {vetor2} \\nVetor 3: {vetor3} \\nVetor 4: {vetor4}')"
   ]
  },
  {
   "cell_type": "markdown",
   "metadata": {},
   "source": [
    "**Exercício 12.** Foram anotadas as idades e alturas de 30 alunos. Faça um Programa que determine quantos alunos com mais de 13 anos possuem altura inferior à média de altura desses alunos."
   ]
  },
  {
   "cell_type": "code",
   "execution_count": 26,
   "metadata": {},
   "outputs": [
    {
     "name": "stdout",
     "output_type": "stream",
     "text": [
      "Aluno 1\n"
     ]
    },
    {
     "name": "stdin",
     "output_type": "stream",
     "text": [
      "Idade: 18\n",
      "Altura: 175\n"
     ]
    },
    {
     "name": "stdout",
     "output_type": "stream",
     "text": [
      "Aluno 2\n"
     ]
    },
    {
     "name": "stdin",
     "output_type": "stream",
     "text": [
      "Idade: 19\n",
      "Altura: 175\n"
     ]
    },
    {
     "name": "stdout",
     "output_type": "stream",
     "text": [
      "Aluno 3\n"
     ]
    },
    {
     "name": "stdin",
     "output_type": "stream",
     "text": [
      "Idade: 20\n",
      "Altura: 173\n"
     ]
    },
    {
     "name": "stdout",
     "output_type": "stream",
     "text": [
      "Aluno 4\n"
     ]
    },
    {
     "name": "stdin",
     "output_type": "stream",
     "text": [
      "Idade: 19\n",
      "Altura: 150\n"
     ]
    },
    {
     "name": "stdout",
     "output_type": "stream",
     "text": [
      "Aluno 5\n"
     ]
    },
    {
     "name": "stdin",
     "output_type": "stream",
     "text": [
      "Idade: 15\n",
      "Altura: 150\n"
     ]
    },
    {
     "name": "stdout",
     "output_type": "stream",
     "text": [
      "Aluno 6\n"
     ]
    },
    {
     "name": "stdin",
     "output_type": "stream",
     "text": [
      "Idade: 10\n",
      "Altura: 145\n"
     ]
    },
    {
     "name": "stdout",
     "output_type": "stream",
     "text": [
      "Aluno 7\n"
     ]
    },
    {
     "name": "stdin",
     "output_type": "stream",
     "text": [
      "Idade: 16\n",
      "Altura: 170\n"
     ]
    },
    {
     "name": "stdout",
     "output_type": "stream",
     "text": [
      "Aluno 8\n"
     ]
    },
    {
     "name": "stdin",
     "output_type": "stream",
     "text": [
      "Idade: 20\n",
      "Altura: 190\n"
     ]
    },
    {
     "name": "stdout",
     "output_type": "stream",
     "text": [
      "Aluno 9\n"
     ]
    },
    {
     "name": "stdin",
     "output_type": "stream",
     "text": [
      "Idade: 9\n",
      "Altura: 130\n"
     ]
    },
    {
     "name": "stdout",
     "output_type": "stream",
     "text": [
      "Aluno 10\n"
     ]
    },
    {
     "name": "stdin",
     "output_type": "stream",
     "text": [
      "Idade: 12\n",
      "Altura: 140\n"
     ]
    },
    {
     "name": "stdout",
     "output_type": "stream",
     "text": [
      "Aluno 11\n"
     ]
    },
    {
     "name": "stdin",
     "output_type": "stream",
     "text": [
      "Idade: 18\n",
      "Altura: 175\n"
     ]
    },
    {
     "name": "stdout",
     "output_type": "stream",
     "text": [
      "Aluno 12\n"
     ]
    },
    {
     "name": "stdin",
     "output_type": "stream",
     "text": [
      "Idade: 19\n",
      "Altura: 175\n"
     ]
    },
    {
     "name": "stdout",
     "output_type": "stream",
     "text": [
      "Aluno 13\n"
     ]
    },
    {
     "name": "stdin",
     "output_type": "stream",
     "text": [
      "Idade: 20\n",
      "Altura: 173\n"
     ]
    },
    {
     "name": "stdout",
     "output_type": "stream",
     "text": [
      "Aluno 14\n"
     ]
    },
    {
     "name": "stdin",
     "output_type": "stream",
     "text": [
      "Idade: 19\n",
      "Altura: 150\n"
     ]
    },
    {
     "name": "stdout",
     "output_type": "stream",
     "text": [
      "Aluno 15\n"
     ]
    },
    {
     "name": "stdin",
     "output_type": "stream",
     "text": [
      "Idade: 15\n",
      "Altura: 150\n"
     ]
    },
    {
     "name": "stdout",
     "output_type": "stream",
     "text": [
      "Aluno 16\n"
     ]
    },
    {
     "name": "stdin",
     "output_type": "stream",
     "text": [
      "Idade: 10\n",
      "Altura: 145\n"
     ]
    },
    {
     "name": "stdout",
     "output_type": "stream",
     "text": [
      "Aluno 17\n"
     ]
    },
    {
     "name": "stdin",
     "output_type": "stream",
     "text": [
      "Idade: 16\n",
      "Altura: 170\n"
     ]
    },
    {
     "name": "stdout",
     "output_type": "stream",
     "text": [
      "Aluno 18\n"
     ]
    },
    {
     "name": "stdin",
     "output_type": "stream",
     "text": [
      "Idade: 20\n",
      "Altura: 190\n"
     ]
    },
    {
     "name": "stdout",
     "output_type": "stream",
     "text": [
      "Aluno 19\n"
     ]
    },
    {
     "name": "stdin",
     "output_type": "stream",
     "text": [
      "Idade: 9\n",
      "Altura: 130\n"
     ]
    },
    {
     "name": "stdout",
     "output_type": "stream",
     "text": [
      "Aluno 20\n"
     ]
    },
    {
     "name": "stdin",
     "output_type": "stream",
     "text": [
      "Idade: 12\n",
      "Altura: 140\n"
     ]
    },
    {
     "name": "stdout",
     "output_type": "stream",
     "text": [
      "Aluno 21\n"
     ]
    },
    {
     "name": "stdin",
     "output_type": "stream",
     "text": [
      "Idade: 18\n",
      "Altura: 175\n"
     ]
    },
    {
     "name": "stdout",
     "output_type": "stream",
     "text": [
      "Aluno 22\n"
     ]
    },
    {
     "name": "stdin",
     "output_type": "stream",
     "text": [
      "Idade: 19\n",
      "Altura: 175\n"
     ]
    },
    {
     "name": "stdout",
     "output_type": "stream",
     "text": [
      "Aluno 23\n"
     ]
    },
    {
     "name": "stdin",
     "output_type": "stream",
     "text": [
      "Idade: 20\n",
      "Altura: 173\n"
     ]
    },
    {
     "name": "stdout",
     "output_type": "stream",
     "text": [
      "Aluno 24\n"
     ]
    },
    {
     "name": "stdin",
     "output_type": "stream",
     "text": [
      "Idade: 19\n",
      "Altura: 150\n"
     ]
    },
    {
     "name": "stdout",
     "output_type": "stream",
     "text": [
      "Aluno 25\n"
     ]
    },
    {
     "name": "stdin",
     "output_type": "stream",
     "text": [
      "Idade: 15\n",
      "Altura: 150\n"
     ]
    },
    {
     "name": "stdout",
     "output_type": "stream",
     "text": [
      "Aluno 26\n"
     ]
    },
    {
     "name": "stdin",
     "output_type": "stream",
     "text": [
      "Idade: 10\n",
      "Altura: 145\n"
     ]
    },
    {
     "name": "stdout",
     "output_type": "stream",
     "text": [
      "Aluno 27\n"
     ]
    },
    {
     "name": "stdin",
     "output_type": "stream",
     "text": [
      "Idade: 16\n",
      "Altura: 170\n"
     ]
    },
    {
     "name": "stdout",
     "output_type": "stream",
     "text": [
      "Aluno 28\n"
     ]
    },
    {
     "name": "stdin",
     "output_type": "stream",
     "text": [
      "Idade: 20\n",
      "Altura: 190\n"
     ]
    },
    {
     "name": "stdout",
     "output_type": "stream",
     "text": [
      "Aluno 29\n"
     ]
    },
    {
     "name": "stdin",
     "output_type": "stream",
     "text": [
      "Idade: 9\n",
      "Altura: 130\n"
     ]
    },
    {
     "name": "stdout",
     "output_type": "stream",
     "text": [
      "Aluno 30\n"
     ]
    },
    {
     "name": "stdin",
     "output_type": "stream",
     "text": [
      "Idade: 12\n",
      "Altura: 140\n"
     ]
    },
    {
     "name": "stdout",
     "output_type": "stream",
     "text": [
      "Quantidade de alunos com mais de 13 anos que possuem altura inferior à media de altura dos alunos: 6\n"
     ]
    }
   ],
   "source": [
    "idades = []\n",
    "alturas = []\n",
    "soma_alturas = 0\n",
    "qtd_alunos_menores = 0\n",
    "for i in range(30):\n",
    "    print(f'Aluno {i + 1}')\n",
    "    idade = int(input('Idade:'))\n",
    "    altura = float(input('Altura:'))\n",
    "    idades.append(idade)\n",
    "    alturas.append(altura)\n",
    "    soma_alturas += altura\n",
    "media_altura = soma_alturas / 30\n",
    "for i in range(30):\n",
    "    if idades[i] > 13:\n",
    "        if alturas[i] < media_altura:\n",
    "            qtd_alunos_menores += 1\n",
    "print(f'Quantidade de alunos com mais de 13 anos que possuem altura inferior à media de altura dos alunos: {qtd_alunos_menores}')"
   ]
  },
  {
   "cell_type": "markdown",
   "metadata": {},
   "source": [
    "**Exercício 13.** Faça um programa que receba a temperatura média de cada mês do ano e armazene-as em uma lista. Após isto, calcule a média anual das temperaturas e mostre todas as temperaturas acima da média anual, e em que mês elas ocorreram (mostrar o mês por extenso: 1 – Janeiro, 2 – Fevereiro, . . . )."
   ]
  },
  {
   "cell_type": "code",
   "execution_count": 33,
   "metadata": {},
   "outputs": [
    {
     "name": "stdin",
     "output_type": "stream",
     "text": [
      "Média de temperatura de Janeiro: 24\n",
      "Média de temperatura de Fevereiro: 23\n",
      "Média de temperatura de Março: 22\n",
      "Média de temperatura de Abril: 19\n",
      "Média de temperatura de Maio: 17\n",
      "Média de temperatura de Junho: 16\n",
      "Média de temperatura de Julho: 16\n",
      "Média de temperatura de Agosto: 17\n",
      "Média de temperatura de Setembro: 18\n",
      "Média de temperatura de Outubro: 20\n",
      "Média de temperatura de Novembro: 22\n",
      "Média de temperatura de Dezembro: 21\n"
     ]
    },
    {
     "name": "stdout",
     "output_type": "stream",
     "text": [
      "\n",
      "Meses que tiveram temperatura acima da média anual:\n",
      "\n",
      "Janeiro - Média: 24.0\n",
      "Fevereiro - Média: 23.0\n",
      "Março - Média: 22.0\n",
      "Outubro - Média: 20.0\n",
      "Novembro - Média: 22.0\n",
      "Dezembro - Média: 21.0\n"
     ]
    }
   ],
   "source": [
    "medias_temperaturas = []\n",
    "meses = ['Janeiro', 'Fevereiro', 'Março', 'Abril', 'Maio', 'Junho', 'Julho', 'Agosto', 'Setembro', 'Outubro', 'Novembro', 'Dezembro']\n",
    "soma_medias = 0\n",
    "for i in meses:\n",
    "    temp_media = float(input(f'Média de temperatura de {i}:'))\n",
    "    medias_temperaturas.append(temp_media)\n",
    "    soma_medias += temp_media\n",
    "print('\\nMeses que tiveram temperatura acima da média anual:\\n')\n",
    "media_medias = soma_medias / len(meses)\n",
    "for i in range(len(meses)):\n",
    "    if medias_temperaturas[i] > media_medias:\n",
    "        print(f'{meses[i]} - Média: {medias_temperaturas[i]}')"
   ]
  },
  {
   "cell_type": "markdown",
   "metadata": {},
   "source": [
    "**Exercício 14.** Utilizando listas faça um programa que faça 5 perguntas para uma pessoa sobre um crime. As perguntas são:\n",
    "- \"Telefonou para a vítima?\"\n",
    "- \"Esteve no local do crime?\"\n",
    "- \"Mora perto da vítima?\"\n",
    "- \"Devia para a vítima?\"\n",
    "- \"Já trabalhou com a vítima?\"\n",
    "\n",
    "O programa deve no final emitir uma classificação sobre a participação da pessoa no crime. Se a pessoa responder positivamente a 2 questões ela deve ser classificada como \"Suspeita\", entre 3 e 4 como \"Cúmplice\" e 5 como \"Assassino\". Caso contrário, ele será classificado como \"Inocente\"."
   ]
  },
  {
   "cell_type": "code",
   "execution_count": 34,
   "metadata": {},
   "outputs": [
    {
     "name": "stdout",
     "output_type": "stream",
     "text": [
      "Responda as seguintes perguntas com S ou N\n"
     ]
    },
    {
     "name": "stdin",
     "output_type": "stream",
     "text": [
      "Telefonou para a vítima? s\n",
      "Esteve no local do crime? s\n",
      "Mora perto da vítima? s\n",
      "Devia para a vítima? s\n",
      "Já trabalhou com a vítima? s\n"
     ]
    },
    {
     "name": "stdout",
     "output_type": "stream",
     "text": [
      "Assassino\n"
     ]
    }
   ],
   "source": [
    "count = 0\n",
    "print('Responda as seguintes perguntas com S ou N')\n",
    "p1 = input('Telefonou para a vítima?').upper()\n",
    "p2 = input('Esteve no local do crime?').upper()\n",
    "p3 = input('Mora perto da vítima?').upper()\n",
    "p4 = input('Devia para a vítima?').upper()\n",
    "p5 = input('Já trabalhou com a vítima?').upper()\n",
    "respostas = [p1, p2, p3, p4, p5]\n",
    "for i in respostas:\n",
    "    if i == 'S':\n",
    "        count += 1\n",
    "if count == 2:\n",
    "    print('Suspeita')\n",
    "elif count >= 3 and count <= 4:\n",
    "    print('Cúmplice')\n",
    "elif count == 5:\n",
    "    print('Assassino')\n",
    "else:\n",
    "    print('Inocente')"
   ]
  },
  {
   "cell_type": "markdown",
   "metadata": {},
   "source": [
    "**Exercício 15.** Faça um programa que leia um número indeterminado de valores, correspondentes a notas, encerrando a entrada de dados quando for informado um valor igual a -1 (que não deve ser armazenado). Após esta entrada de dados, faça:\n",
    "- Mostre a quantidade de valores que foram lidos;\n",
    "- Exiba todos os valores na ordem em que foram informados, um ao lado do outro;\n",
    "- Exiba todos os valores na ordem inversa à que foram informados, um abaixo do outro;\n",
    "- Calcule e mostre a soma dos valores;\n",
    "- Calcule e mostre a média dos valores;\n",
    "- Calcule e mostre a quantidade de valores acima da média calculada;\n",
    "- Calcule e mostre a quantidade de valores abaixo de sete;\n",
    "- Encerre o programa com uma mensagem;"
   ]
  },
  {
   "cell_type": "code",
   "execution_count": 36,
   "metadata": {},
   "outputs": [
    {
     "name": "stdin",
     "output_type": "stream",
     "text": [
      "Nota: 10\n",
      "Nota: 7\n",
      "Nota: 9\n",
      "Nota: 4\n",
      "Nota: 8\n",
      "Nota: 7\n",
      "Nota: -1\n"
     ]
    },
    {
     "name": "stdout",
     "output_type": "stream",
     "text": [
      "Quantidade de valores: 6\n",
      "10, 7, 9, 4, 8, 7.\n",
      "7\n",
      "8\n",
      "4\n",
      "9\n",
      "7\n",
      "10\n",
      "Soma: 45\n",
      "Média: 7.50\n",
      "Quantidade de valores acima da média calculada: 3\n",
      "Quantidade de valores abaixo de sete: 1\n",
      "Encerrando programa.\n"
     ]
    }
   ],
   "source": [
    "valores = []\n",
    "soma = 0\n",
    "qtd_valores_acima_media = 0\n",
    "qtd_valores_abaixo_7 = 0\n",
    "while True:\n",
    "    valor = int(input('Nota:'))\n",
    "    if valor == -1:\n",
    "        break\n",
    "    else:\n",
    "        valores.append(valor)\n",
    "print(f'Quantidade de valores: {len(valores)}')\n",
    "for i in range(len(valores)):\n",
    "    if i != len(valores) - 1:\n",
    "        print(valores[i], end=', ')\n",
    "    else:\n",
    "        print(f'{valores[i]}.')\n",
    "    soma += valores[i]\n",
    "for j in range(len(valores) - 1, -1, -1):\n",
    "    print(valores[j])\n",
    "print(f'Soma: {soma}')\n",
    "media = soma / len(valores)\n",
    "print(f'Média: {media:.2f}')\n",
    "for k in valores:\n",
    "    if k > media:\n",
    "        qtd_valores_acima_media += 1\n",
    "    if k < 7:\n",
    "        qtd_valores_abaixo_7 += 1\n",
    "print(f'Quantidade de valores acima da média calculada: {qtd_valores_acima_media}')\n",
    "print(f'Quantidade de valores abaixo de sete: {qtd_valores_abaixo_7}')\n",
    "print('Encerrando programa.')"
   ]
  },
  {
   "cell_type": "markdown",
   "metadata": {},
   "source": [
    "**Exercício 16.** Utilize uma lista para resolver o problema a seguir. Uma empresa paga seus vendedores com base em comissões. O vendedor recebe 200 reais por semana mais 9 por cento de suas vendas brutas daquela semana. Por exemplo, um vendedor que teve vendas brutas de 3000 reais em uma semana recebe 200 reais mais 9 por cento de 3000 reais, ou seja, um total de 470 reais. Escreva um programa (usando uma lista de contadores) que determine quantos vendedores receberam salários nos seguintes intervalos de valores:\n",
    "- 200 reais - 299 reais\n",
    "- 300 reais - 399 reais\n",
    "- 400 reais - 499 reais\n",
    "- 500 reais - 599 reais\n",
    "- 600 reais - 699 reais\n",
    "- 700 reais - 799 reais\n",
    "- 800 reais - 899 reais\n",
    "- 900 reais - 999 reais\n",
    "- 1000 reais em diante\n",
    "\n",
    "**Desafio:** Crie uma fórmula para chegar na posição da lista a partir do salário,\n",
    "sem fazer vários ifs aninhados.\n"
   ]
  },
  {
   "cell_type": "code",
   "execution_count": 37,
   "metadata": {},
   "outputs": [
    {
     "name": "stdin",
     "output_type": "stream",
     "text": [
      "Valor vendas brutas da semana: 3000\n",
      "Valor vendas brutas da semana: 30000\n",
      "Valor vendas brutas da semana: 1000000\n",
      "Valor vendas brutas da semana: 20000\n",
      "Valor vendas brutas da semana: -1\n"
     ]
    },
    {
     "name": "stdout",
     "output_type": "stream",
     "text": [
      "Vendedores com salario entre R$200 - R$299: 0\n",
      "Vendedores com salario entre R$300 - R$399: 0\n",
      "Vendedores com salario entre R$400 - R$499: 1\n",
      "Vendedores com salario entre R$500 - R$599: 0\n",
      "Vendedores com salario entre R$600 - R$699: 0\n",
      "Vendedores com salario entre R$700 - R$799: 0\n",
      "Vendedores com salario entre R$800 - R$899: 0\n",
      "Vendedores com salario entre R$900 - R$999: 0\n",
      "Vendedores com salario de R$1000 em diante: 3\n"
     ]
    }
   ],
   "source": [
    "vendedores_intervalos = [0, 0, 0, 0, 0, 0, 0, 0, 0]\n",
    "while True:\n",
    "    valor_vendas = int(input('Valor vendas brutas da semana:'))\n",
    "    salario = 200 + (valor_vendas * 0.09)\n",
    "    if valor_vendas == -1:\n",
    "        break\n",
    "    if salario >= 200 and salario <= 299:\n",
    "        vendedores_intervalos[0] += 1\n",
    "    elif salario >= 300 and salario <= 399:\n",
    "        vendedores_intervalos[1] += 1\n",
    "    elif salario >= 400 and salario <= 499:\n",
    "        vendedores_intervalos[2] += 1\n",
    "    elif salario >= 500 and salario <= 599:\n",
    "        vendedores_intervalos[3] += 1\n",
    "    elif salario >= 600 and salario <= 699:\n",
    "        vendedores_intervalos[4] += 1\n",
    "    elif salario >= 700 and salario <= 799:\n",
    "        vendedores_intervalos[5] += 1\n",
    "    elif salario >= 800 and salario <= 899:\n",
    "        vendedores_intervalos[6] += 1\n",
    "    elif salario >= 900 and salario <= 999:\n",
    "        vendedores_intervalos[7] += 1\n",
    "    elif salario >= 100:\n",
    "        vendedores_intervalos[8] += 1\n",
    "print(f'Vendedores com salario entre R$200 - R$299: {vendedores_intervalos[0]}')\n",
    "print(f'Vendedores com salario entre R$300 - R$399: {vendedores_intervalos[1]}')\n",
    "print(f'Vendedores com salario entre R$400 - R$499: {vendedores_intervalos[2]}')\n",
    "print(f'Vendedores com salario entre R$500 - R$599: {vendedores_intervalos[3]}')\n",
    "print(f'Vendedores com salario entre R$600 - R$699: {vendedores_intervalos[4]}')\n",
    "print(f'Vendedores com salario entre R$700 - R$799: {vendedores_intervalos[5]}')\n",
    "print(f'Vendedores com salario entre R$800 - R$899: {vendedores_intervalos[6]}')\n",
    "print(f'Vendedores com salario entre R$900 - R$999: {vendedores_intervalos[7]}')\n",
    "print(f'Vendedores com salario de R$1000 em diante: {vendedores_intervalos[8]}')"
   ]
  },
  {
   "cell_type": "markdown",
   "metadata": {},
   "source": [
    "**Exercício 17.** Em uma competição de salto em distância cada atleta tem direito a cinco saltos. O resultado do atleta será determinado pela média dos cinco valores restantes. Você deve fazer um programa que receba o nome e as cinco distâncias alcançadas pelo atleta em seus saltos e depois informe o nome, os saltos e a média dos saltos. O programa deve ser encerrado quando não for informado o nome do atleta. A saída do programa deve ser conforme o exemplo abaixo:"
   ]
  },
  {
   "cell_type": "raw",
   "metadata": {},
   "source": [
    "Atleta: Rodrigo Curvêllo\n",
    "\n",
    "Primeiro Salto: 6.5 m\n",
    "Segundo Salto: 6.1 m\n",
    "Terceiro Salto: 6.2 m\n",
    "Quarto Salto: 5.4 m\n",
    "Quinto Salto: 5.3 m\n",
    "\n",
    "Resultado final:\n",
    "Atleta: Rodrigo Curvêllo\n",
    "Saltos: 6.5 - 6.1 - 6.2 - 5.4 - 5.3\n",
    "Média dos saltos: 5.9 m"
   ]
  },
  {
   "cell_type": "code",
   "execution_count": 38,
   "metadata": {},
   "outputs": [
    {
     "name": "stdin",
     "output_type": "stream",
     "text": [
      "Atleta: Rodrigo Curvêllo\n"
     ]
    },
    {
     "name": "stdout",
     "output_type": "stream",
     "text": [
      "\n"
     ]
    },
    {
     "name": "stdin",
     "output_type": "stream",
     "text": [
      "1º Salto:  6.5\n",
      "2º Salto:  6.1\n",
      "3º Salto:  6.2\n",
      "4º Salto:  5.4\n",
      "5º Salto:  5.3\n"
     ]
    },
    {
     "name": "stdout",
     "output_type": "stream",
     "text": [
      "\n",
      "Resultado final: \n",
      "Atleta: Rodrigo Curvêllo \n",
      "Saltos: 6.5 - 6.1 - 6.2 - 5.4 - 5.3 \n",
      "Média dos saltos: 5.9\n"
     ]
    },
    {
     "name": "stdin",
     "output_type": "stream",
     "text": [
      "Atleta: \n"
     ]
    }
   ],
   "source": [
    "while True:\n",
    "    nome = input('Atleta:').title()\n",
    "    if nome == '':\n",
    "        break\n",
    "    print()\n",
    "    saltos = []\n",
    "    soma = 0\n",
    "    for i in range(5):\n",
    "        salto = float(input(f'{i + 1}º Salto: '))\n",
    "        saltos.append(salto)\n",
    "        soma += salto\n",
    "    media = soma / 5\n",
    "    print()\n",
    "    print(f'Resultado final: \\nAtleta: {nome} \\nSaltos: {saltos[0]} - {saltos[1]} - {saltos[2]} - {saltos[3]} - {saltos[4]} \\nMédia dos saltos: {media:.1f}')"
   ]
  },
  {
   "cell_type": "markdown",
   "metadata": {},
   "source": [
    "**Exercício 18.** Uma grande emissora de televisão quer fazer uma enquete entre os seus telespectadores para saber qual o melhor jogador após cada jogo. Para isto, faz-se necessário o desenvolvimento de um programa, que será utilizado pelas telefonistas, para a computação dos votos. Sua equipe foi contratada para desenvolver este programa, utilizando a linguagem de programação C++. Para computar cada voto, a telefonista digitará um número, entre 1 e 23, correspondente ao número da camisa do jogador. Um número de jogador igual zero, indica que a votação foi encerrada. Se um número inválido for digitado, o programa deve ignorá-lo, mostrando uma breve mensagem de aviso, e voltando a pedir outro número. Após o final da votação, o programa deverá exibir:\n",
    "- a) O total de votos computados;\n",
    "- b) Os números e respectivos votos de todos os jogadores que receberam votos;\n",
    "- c) O percentual de votos de cada um destes jogadores;\n",
    "- d) O número do jogador escolhido como o melhor jogador da partida, juntamente com o número de votos e o percentual de votos dados a ele.\n",
    "\n",
    "    Observe que os votos inválidos e o zero final não devem ser computados como votos. O resultado aparece ordenado pelo número do jogador. O programa deve fazer uso de arrays. O programa deverá executar o cálculo do percentual de cada jogador através de uma função. Esta função receberá dois parâmetros: o número de votos de um jogador e o total de votos. A função calculará o percentual e retornará o valor calculado. Abaixo segue uma tela de exemplo. O disposição das informações deve ser o mais próxima possível ao exemplo. Os dados são fictícios e podem mudar a cada execução do programa. Ao final, o programa deve ainda gravar os dados referentes ao resultado da votação em um arquivo texto no disco, obedecendo a mesma disposição apresentada na tela.\n"
   ]
  },
  {
   "cell_type": "raw",
   "metadata": {},
   "source": [
    "Enquete: Quem foi o melhor jogador?\n",
    "\n",
    "Número do jogador (0=fim): 9\n",
    "Número do jogador (0=fim): 10\n",
    "Número do jogador (0=fim): 9\n",
    "Número do jogador (0=fim): 10\n",
    "Número do jogador (0=fim): 11\n",
    "Número do jogador (0=fim): 10\n",
    "Número do jogador (0=fim): 50\n",
    "Informe um valor entre 1 e 23 ou 0 para sair!\n",
    "Número do jogador (0=fim): 9\n",
    "Número do jogador (0=fim): 9\n",
    "Número do jogador (0=fim): 0\n",
    "\n",
    "Resultado da votação:\n",
    "\n",
    "Foram computados 8 votos.\n",
    "\n",
    "Jogador     Votos     %\n",
    "9              4     50,0%\n",
    "10             3     37,5%\n",
    "11             1     12,5%\n",
    "\n",
    "O melhor jogador foi o número 9, com 4 votos, correspondendo a 50% do total de votos."
   ]
  },
  {
   "cell_type": "code",
   "execution_count": 42,
   "metadata": {},
   "outputs": [
    {
     "name": "stdout",
     "output_type": "stream",
     "text": [
      "Enquete: Quem foi o melhor jogador?\n",
      "\n"
     ]
    },
    {
     "name": "stdin",
     "output_type": "stream",
     "text": [
      "Número do jogador:  9\n",
      "Número do jogador:  10\n",
      "Número do jogador:  9\n",
      "Número do jogador:  10\n",
      "Número do jogador:  11\n",
      "Número do jogador:  10\n",
      "Número do jogador:  50\n",
      "Informe um valor entre 1 e 23 ou 0 para sair! \n",
      "Número do jogador:  9\n",
      "Número do jogador:  9\n",
      "Número do jogador:  0\n"
     ]
    },
    {
     "name": "stdout",
     "output_type": "stream",
     "text": [
      "\n",
      "Resultado da votação:\n",
      "\n",
      "Foram computados 8 votos.\n",
      "\n",
      "Jogador      Votos               %\n",
      "9              4              50.0%\n",
      "10             3              37.5%\n",
      "11             1              12.5%\n",
      "O melhor jogador foi o número 9, com 4 votos, correspondendo a 50.0% do total de votos.\n",
      "\n"
     ]
    }
   ],
   "source": [
    "def status_melhor_jogador(jogadores, count):\n",
    "    pont_max = max(jogadores)\n",
    "    jogador = jogadores.index(pont_max)\n",
    "    votos_porcentagem = (pont_max / count) * 100\n",
    "\n",
    "    return pont_max, jogador, votos_porcentagem\n",
    "\n",
    "jogadores = [0, 0, 0, 0, 0, 0, 0, 0, 0, 0, 0, 0, 0, 0, 0, 0, 0, 0, 0, 0, 0, 0, 0]\n",
    "count = 0\n",
    "print('Enquete: Quem foi o melhor jogador?\\n')\n",
    "while True:\n",
    "    numero = int(input('Número do jogador: '))\n",
    "    while numero < 0 or numero > 23:\n",
    "        numero = int(input('Informe um valor entre 1 e 23 ou 0 para sair! \\nNúmero do jogador: '))\n",
    "    if numero == 0:\n",
    "        break\n",
    "    jogadores[numero - 1] += 1\n",
    "    count += 1\n",
    "maior_pontuacao, melhor_jogador, maior_pontuacao_porcentagem = status_melhor_jogador(jogadores, count)\n",
    "print('\\nResultado da votação:')\n",
    "print(f'\\nForam computados {count} votos.')\n",
    "print('\\nJogador      Votos               %')\n",
    "for i in range(count):\n",
    "    pont_max, jogador, votos_porcentagem = status_melhor_jogador(jogadores, count)\n",
    "    if pont_max != 0:\n",
    "        print(f'{jogador + 1:<15d}{pont_max:<15d}{votos_porcentagem:.1f}%')\n",
    "    jogadores[jogador] = 0\n",
    "\n",
    "print(f'O melhor jogador foi o número {melhor_jogador + 1}, com {maior_pontuacao} votos, correspondendo a {maior_pontuacao_porcentagem:.1f}% do total de votos.\\n')"
   ]
  },
  {
   "cell_type": "markdown",
   "metadata": {},
   "source": [
    "**Exercício 19.** Uma empresa de pesquisas precisa tabular os resultados da seguinte enquete feita a um grande quantidade de organizações:"
   ]
  },
  {
   "cell_type": "raw",
   "metadata": {},
   "source": [
    "\"Qual o melhor Sistema Operacional para uso em servidores?\"\n",
    "\n",
    "As possíveis respostas são:\n",
    "\n",
    "1- Windows Server\n",
    "2- Unix\n",
    "3- Linux\n",
    "4- Netware\n",
    "5- Mac OS\n",
    "6- Outro"
   ]
  },
  {
   "cell_type": "markdown",
   "metadata": {},
   "source": [
    "Você foi contratado para desenvolver um programa que leia o resultado da enquete e informe ao final o resultado da mesma. O programa deverá ler os valores até ser informado o valor 0, que encerra a entrada dos dados. Não deverão ser aceitos valores além dos válidos para o programa (0 a 6). Os valores referentes a cada uma das opções devem ser armazenados numa lista. Após os dados terem sido completamente informados, o programa deverá calcular a percentual de cada um dos concorrentes e informar o vencedor da enquete. O formato da saída foi dado pela empresa, e é o seguinte:"
   ]
  },
  {
   "cell_type": "raw",
   "metadata": {},
   "source": [
    "Sistema Operacional   Votos   %\n",
    "-------------------   -----   ---\n",
    "Windows Server         1500   17%\n",
    "Unix                   3500   40%\n",
    "Linux                  3000   34%\n",
    "Netware                 500    5%\n",
    "Mac OS                  150    2%\n",
    "Outro                   150    2%\n",
    "-------------------   -----   ---\n",
    "Total                  8800\n",
    "O Sistema Operacional mais votado foi o Unix, com 3500 votos, correspondendo a 40% dos\n",
    "votos."
   ]
  },
  {
   "cell_type": "code",
   "execution_count": 43,
   "metadata": {},
   "outputs": [
    {
     "name": "stdout",
     "output_type": "stream",
     "text": [
      "Qual o melhor Sistema Opepracional para uso em servidores?\n",
      "\n",
      "As possiveis respostas são:\n",
      "\n",
      "1- Windows Server \n",
      "2- Unix \n",
      "3- Linux \n",
      "4- Netware \n",
      "5- Mac OS \n",
      "6- Outro \n",
      "Escolha um valor entre 1 e 6 ou 0 para sair!\n"
     ]
    },
    {
     "name": "stdin",
     "output_type": "stream",
     "text": [
      "Resposta:  1\n",
      "Resposta:  1\n",
      "Resposta:  1\n",
      "Resposta:  1\n",
      "Resposta:  2\n",
      "Resposta:  2\n",
      "Resposta:  2\n",
      "Resposta:  3\n",
      "Resposta:  3\n",
      "Resposta:  5\n",
      "Resposta:  0\n"
     ]
    },
    {
     "name": "stdout",
     "output_type": "stream",
     "text": [
      "\n",
      "Sistema Operacional     Votos     % \n",
      "-------------------     -----     ----\n",
      "Windows Server           4        40.0%\n",
      "Unix                     3        30.0%\n",
      "Linux                    2        20.0%\n",
      "Mac OS                   1        10.0%\n",
      "-------------------     -----     ----\n",
      "Total                  10\n",
      "O Sistema Operacional mais votado foi o 0, com 4 votos, correspondendo a 0.0% dos votos.\n"
     ]
    }
   ],
   "source": [
    "def status_melhor_SO(opcoes, count):\n",
    "    pont_max = max(opcoes)\n",
    "    SO = opcoes.index(pont_max)\n",
    "    votos_porcentagem = (pont_max / count) * 100\n",
    "\n",
    "    return pont_max, SO, votos_porcentagem\n",
    "\n",
    "opcoes = [0, 0, 0, 0, 0, 0]\n",
    "opcoes_nome = ['Windows Server', 'Unix', 'Linux', 'Netware', 'Mac OS', 'Outro']\n",
    "count = 0\n",
    "print('Qual o melhor Sistema Opepracional para uso em servidores?\\n')\n",
    "print('As possiveis respostas são:\\n')\n",
    "print('1- Windows Server \\n2- Unix \\n3- Linux \\n4- Netware \\n5- Mac OS \\n6- Outro \\nEscolha um valor entre 1 e 6 ou 0 para sair!')\n",
    "while True:\n",
    "    resposta = int(input('Resposta: '))\n",
    "    while resposta < 0 or resposta > 6:\n",
    "        resposta = int(input('Escolha um valor entre 1 e 6 ou 0 para sair! \\nResposta: '))\n",
    "    if resposta == 0:\n",
    "        break\n",
    "    opcoes[resposta - 1] += 1\n",
    "    count += 1\n",
    "maior_pontuacao, melhor_SO, maior_pontuacao_porcentagem = status_melhor_SO(opcoes, count)\n",
    "print('\\nSistema Operacional     Votos     % \\n-------------------     -----     ----')\n",
    "for i in range(count):\n",
    "    pont_max, posicao_SO, votos_porcentagem = status_melhor_SO(opcoes, count)\n",
    "    if pont_max != 0:\n",
    "        print(f'{opcoes_nome[posicao_SO]:<25s}{pont_max:<9d}{votos_porcentagem:.1f}%')\n",
    "    opcoes[posicao_SO] = 0\n",
    "print('-------------------     -----     ----')\n",
    "print(f'Total{count:>20d}')\n",
    "print(f'O Sistema Operacional mais votado foi o {melhor_SO}, com {maior_pontuacao} votos, correspondendo a {votos_porcentagem:.1f}% dos votos.')"
   ]
  },
  {
   "cell_type": "markdown",
   "metadata": {},
   "source": [
    "**Exercício 20.** Criar um tipo de dado (classe) MinhaLista que possui o comportamento de uma lista builtin mas é implementada usando tuplas. O novo tipo de dado deve permitir atribuição e acesso aos elementos da lista, e conter os seguintes métodos:\n",
    "\n",
    "    append()\n",
    "    remove(element)\n",
    "    sort()\n",
    "    reverse()\n",
    "    pop(index=-1)\n",
    "*dica: usar magic methods"
   ]
  },
  {
   "cell_type": "code",
   "execution_count": 44,
   "metadata": {},
   "outputs": [
    {
     "name": "stdout",
     "output_type": "stream",
     "text": [
      "['B', 'A', 'C', 1]\n",
      "['B', 'C', 1]\n",
      "['B', 'C', 1, 'A']\n",
      "[1, 'A', 'B', 'C']\n",
      "['C', 'B', 'A', 1]\n",
      "[1, 'A', 'B', 'C']\n",
      "[1, 'B', 'C']\n",
      "[1]\n",
      "[]\n"
     ]
    }
   ],
   "source": [
    "class MinhaLista:\n",
    "    def __init__(self):\n",
    "        self.__tupla = tuple()\n",
    "\n",
    "    def __str__(self):\n",
    "        if len(self.__tupla) == 0:\n",
    "            string = '[]'\n",
    "        else:\n",
    "            string = ''\n",
    "        for i in range(len(self.__tupla)):\n",
    "            try: \n",
    "                int(self.__tupla[i])\n",
    "                tipo = True\n",
    "            except ValueError:\n",
    "                tipo = False\n",
    "            if tipo:\n",
    "                if i == 0:\n",
    "                    if len(self.__tupla) == 1:\n",
    "                        string += '['+str(self.__tupla[i])+']'\n",
    "                    else:\n",
    "                        string += '['+str(self.__tupla[i])+', '\n",
    "                elif i == len(self.__tupla) - 1:\n",
    "                    string += str(self.__tupla[i])+']'\n",
    "                else:\n",
    "                    string += str(self.__tupla[i])+', '\n",
    "            else:\n",
    "                if i == 0:\n",
    "                    if len(self.__tupla) == 1 and tipo == False:\n",
    "                        string += '['+\"'\"+str(self.__tupla[i])+\"'\"+']'\n",
    "                    else:\n",
    "                        string += '['+\"'\"+str(self.__tupla[i])+\"'\"+', '\n",
    "                elif i == len(self.__tupla) - 1:\n",
    "                    string += \"'\"+str(self.__tupla[i])+\"'\"+']'\n",
    "                else:\n",
    "                    string += \"'\"+str(self.__tupla[i])+\"'\"+', '\n",
    "        return string\n",
    "\n",
    "    @property\n",
    "    def tupla(self):\n",
    "        return self.__tupla\n",
    "    \n",
    "    @tupla.setter\n",
    "    def tupla(self, nova_tupla):\n",
    "        self.__tupla = nova_tupla\n",
    "\n",
    "    def append(self, item):\n",
    "        self.__tupla += tuple(str(item))\n",
    "\n",
    "    def remove(self, item):\n",
    "        lista_auxiliar = MinhaLista()\n",
    "        for i in self.__tupla:\n",
    "            if str(item) != i:\n",
    "                lista_auxiliar.append(i)\n",
    "        self.__tupla = lista_auxiliar.tupla\n",
    "    \n",
    "    def sort(self):\n",
    "        lista_ordenada = MinhaLista()\n",
    "        lista_auxiliar = MinhaLista()\n",
    "        lista_auxiliar.tupla = self.__tupla[:]\n",
    "        for _ in range(len(self.__tupla)):\n",
    "            lista_ordenada.append(min(lista_auxiliar.tupla))\n",
    "            lista_auxiliar.remove(min(lista_auxiliar.tupla))\n",
    "        self.__tupla = lista_ordenada.tupla\n",
    "    \n",
    "    def reverse(self):\n",
    "        nova_tupla = self.__tupla[::-1]\n",
    "        self.__tupla = nova_tupla\n",
    "\n",
    "    def pop(self, index):\n",
    "        for i in range(len(self.__tupla)):\n",
    "            if index - 1 == i:\n",
    "                item = self.__tupla[i]\n",
    "        self.remove(item)\n",
    "\n",
    "lista = MinhaLista()\n",
    "lista.append('B')\n",
    "lista.append('A')\n",
    "lista.append('C')\n",
    "lista.append(1)\n",
    "print(lista)\n",
    "lista.remove('A')\n",
    "print(lista)\n",
    "lista.append('A')\n",
    "print(lista)\n",
    "lista.sort()\n",
    "print(lista)\n",
    "lista.reverse()\n",
    "print(lista)\n",
    "lista.reverse()\n",
    "print(lista)\n",
    "lista.pop(2)\n",
    "print(lista)\n",
    "lista1 = MinhaLista()\n",
    "lista1.append(1)\n",
    "print(lista1)\n",
    "lista1.remove(1)\n",
    "print(lista1)"
   ]
  },
  {
   "cell_type": "markdown",
   "metadata": {},
   "source": [
    "---\n",
    "#### Dicionários:\n",
    "\n",
    "**Exercício 1.** Escreva uma função que conta a frequência de ocorrência de cada palavra em um texto (arquivo txt) e armazena tal quantidade em um dicionário, onde a chave é a vogal considerada."
   ]
  },
  {
   "cell_type": "code",
   "execution_count": 45,
   "metadata": {},
   "outputs": [
    {
     "name": "stdout",
     "output_type": "stream",
     "text": [
      "a: 6\n",
      "programação: 1\n",
      "orientada: 1\n",
      "objetos: 1\n",
      "poo: 3\n",
      "surgiu: 1\n",
      "com: 3\n",
      "finalidade: 1\n",
      "de: 4\n",
      "facilitar: 1\n",
      "vida: 1\n",
      "daqueles: 1\n",
      "que: 7\n",
      "trabalham: 1\n",
      "desenvolvimento: 2\n",
      "software: 4\n",
      "pois: 1\n",
      "na: 1\n",
      "o: 5\n",
      "difícil: 1\n",
      "não: 1\n",
      "é: 2\n",
      "desenvolver: 2\n",
      "bem: 1\n",
      "um: 2\n",
      "mas: 1\n",
      "sim: 1\n",
      "satisfaça: 1\n",
      "cliente: 1\n",
      "ou: 1\n",
      "seja: 1\n",
      "garantir: 1\n",
      "será: 2\n",
      "entregue: 1\n",
      "realmente: 1\n",
      "foi: 1\n",
      "pedido: 1\n",
      "uma: 1\n",
      "das: 1\n",
      "características: 1\n",
      "da: 1\n",
      "fazer: 1\n",
      "programador: 1\n",
      "pense: 1\n",
      "as: 1\n",
      "coisas: 1\n",
      "forma: 1\n",
      "distintas: 1\n",
      "transformandoas: 1\n",
      "assim: 2\n",
      "em: 1\n",
      "objeto: 1\n",
      "aplicando: 1\n",
      "propriedades: 1\n",
      "e: 2\n",
      "métodos: 1\n",
      "comentaremos: 1\n",
      "mais: 1\n",
      "adiante: 1\n",
      "reduzindo: 1\n",
      "complexidade: 1\n",
      "no: 1\n",
      "manutenção: 1\n",
      "aumentando: 1\n",
      "produtividade: 1\n"
     ]
    }
   ],
   "source": [
    "def remover_caracteres_especiais(string):\n",
    "    nova_string = ''\n",
    "    caracteres_especiais = ('\"', \"'\", '.', ',', '(', ')', ':', ';', '!', '@', '#', '$', '%', '&', '*', '-', '_', '=', '+', '[', ']', '{', '}', '?', '/', '<', '>', '|')\n",
    "    for i in string:\n",
    "        if i not in caracteres_especiais:\n",
    "            nova_string += i\n",
    "    return nova_string\n",
    "\n",
    "texto = open('texto_Q1_dicionarios.txt')\n",
    "palavras = remover_caracteres_especiais(texto.read().lower())\n",
    "\n",
    "dicionario = {}\n",
    "for palavra in palavras.split():\n",
    "    if palavra in dicionario:\n",
    "        dicionario[palavra] += 1\n",
    "    else:\n",
    "        dicionario[palavra] = 1\n",
    "\n",
    "for keys, values in dicionario.items():\n",
    "    print(f'{keys}: {values}')"
   ]
  },
  {
   "cell_type": "markdown",
   "metadata": {},
   "source": [
    "**Exercício 2.** Escreva uma função que apaga do dicionário anterior, todas as palavras que sejam ‘stopwords’. Ver https://gist.github.com/alopes/5358189\n"
   ]
  },
  {
   "cell_type": "code",
   "execution_count": 46,
   "metadata": {},
   "outputs": [
    {
     "name": "stdout",
     "output_type": "stream",
     "text": [
      "programação: 1\n",
      "orientada: 1\n",
      "objetos: 1\n",
      "poo: 3\n",
      "surgiu: 1\n",
      "finalidade: 1\n",
      "facilitar: 1\n",
      "vida: 1\n",
      "daqueles: 1\n",
      "trabalham: 1\n",
      "desenvolvimento: 2\n",
      "software: 4\n",
      "difícil: 1\n",
      "desenvolver: 2\n",
      "bem: 1\n",
      "sim: 1\n",
      "satisfaça: 1\n",
      "cliente: 1\n",
      "garantir: 1\n",
      "entregue: 1\n",
      "realmente: 1\n",
      "pedido: 1\n",
      "características: 1\n",
      "fazer: 1\n",
      "programador: 1\n",
      "pense: 1\n",
      "coisas: 1\n",
      "forma: 1\n",
      "distintas: 1\n",
      "transformandoas: 1\n",
      "assim: 2\n",
      "objeto: 1\n",
      "aplicando: 1\n",
      "propriedades: 1\n",
      "métodos: 1\n",
      "comentaremos: 1\n",
      "adiante: 1\n",
      "reduzindo: 1\n",
      "complexidade: 1\n",
      "manutenção: 1\n",
      "aumentando: 1\n",
      "produtividade: 1\n"
     ]
    }
   ],
   "source": [
    "def remover_caracteres_especiais(string):\n",
    "    nova_string = ''\n",
    "    caracteres_especiais = ('\"', \"'\", '.', ',', '(', ')', ':', ';', '!', '@', '#', '$', '%', '&', '*', '-', '_', '=', '+', '[', ']', '{', '}', '?', '/', '<', '>', '|')\n",
    "    for i in string:\n",
    "        if i not in caracteres_especiais:\n",
    "            nova_string += i\n",
    "    return nova_string\n",
    "\n",
    "def remover_stopwords(dicionario):\n",
    "    stopwords = open('stopwords.txt').read()\n",
    "    dicionario_sem_stopwords = dicionario.copy()\n",
    "    for j in dicionario:\n",
    "        if j in stopwords:\n",
    "            del dicionario_sem_stopwords[j]\n",
    "    return dicionario_sem_stopwords\n",
    "\n",
    "texto = open('texto_Q1_dicionarios.txt')\n",
    "palavras = remover_caracteres_especiais(texto.read().lower())\n",
    "\n",
    "dicionario = {}\n",
    "for palavra in palavras.split():\n",
    "    if palavra in dicionario:\n",
    "        dicionario[palavra] += 1\n",
    "    else:\n",
    "        dicionario[palavra] = 1\n",
    "\n",
    "dicionario_sem_stopwords = remover_stopwords(dicionario)\n",
    "for keys, values in dicionario_sem_stopwords.items():\n",
    "    print(f'{keys}: {values}')"
   ]
  },
  {
   "cell_type": "markdown",
   "metadata": {},
   "source": [
    "**Exercício 3.** Escreva um programa que lê duas notas de vários alunos e armazena tais notas em um dicionário, onde a chave é o nome do aluno. A entrada de dados deve terminar quando for lida uma string vazia como nome. Escreva uma função que retorna a média do aluno, dado seu nome."
   ]
  },
  {
   "cell_type": "code",
   "execution_count": 53,
   "metadata": {},
   "outputs": [
    {
     "name": "stdin",
     "output_type": "stream",
     "text": [
      "Aluno:  Alisson\n",
      "Nota 1:  10\n",
      "Nota 2:  10\n",
      "Aluno:  Julien\n",
      "Nota 1:  10\n",
      "Nota 2:  9\n",
      "Aluno:  \n"
     ]
    },
    {
     "name": "stdout",
     "output_type": "stream",
     "text": [
      "\n",
      "Verificar média por nome:\n",
      "\n"
     ]
    },
    {
     "name": "stdin",
     "output_type": "stream",
     "text": [
      "Aluno:  Alisson\n"
     ]
    },
    {
     "name": "stdout",
     "output_type": "stream",
     "text": [
      "Média: 10.0\n"
     ]
    },
    {
     "name": "stdin",
     "output_type": "stream",
     "text": [
      "Aluno:  Julien\n"
     ]
    },
    {
     "name": "stdout",
     "output_type": "stream",
     "text": [
      "Média: 9.5\n"
     ]
    },
    {
     "name": "stdin",
     "output_type": "stream",
     "text": [
      "Aluno:  \n"
     ]
    }
   ],
   "source": [
    "dicionario = {}\n",
    "def media(nome, dicionario):\n",
    "    if nome not in dicionario:\n",
    "        print('Aluno não está no sistema.')\n",
    "    else:\n",
    "        for k, v in dicionario.items():\n",
    "            if k == nome:\n",
    "                media = (v[0] + v[1]) / 2\n",
    "                return media\n",
    "\n",
    "while True:\n",
    "    aluno = input('Aluno: ').title()\n",
    "    if aluno == '':\n",
    "        break\n",
    "    nota1 = float(input('Nota 1: '))\n",
    "    while nota1 < 0 or nota1 > 10:\n",
    "        nota1 = float(input('Valor inválido, digitenovamente a nota 1: '))\n",
    "    nota2 = float(input('Nota 2: '))\n",
    "    while nota2 < 0 or nota2 > 10:\n",
    "        nota2 = float(input('Valor inválido, digitenovamente a nota 2: '))\n",
    "    dicionario[aluno] = [nota1, nota2]\n",
    "\n",
    "print('\\nVerificar média por nome:\\n')\n",
    "while True:    \n",
    "    aluno_verificar_media = input('Aluno: ').title()\n",
    "    if aluno_verificar_media == '':\n",
    "        break\n",
    "    media_aluno = media(aluno_verificar_media, dicionario)\n",
    "    if media_aluno != None:\n",
    "        print(f'Média: {media_aluno}')"
   ]
  },
  {
   "cell_type": "markdown",
   "metadata": {},
   "source": [
    "**Exercício 4.** Uma pista de Kart permite 10 voltas para cada um de 6 corredores. Escreva um programa que leia todos os tempos em segundos e os guarde em um dicionário, onde a chave é o nome do corredor. Ao final diga de quem foi a melhor volta da prova e em que volta; e ainda a classificação final em ordem (1o o campeão). O campeão é o que tem a menor média de tempos."
   ]
  },
  {
   "cell_type": "code",
   "execution_count": 55,
   "metadata": {},
   "outputs": [
    {
     "name": "stdin",
     "output_type": "stream",
     "text": [
      "Nome do corredor:  Alisson\n",
      "Tempo da volta 1:  100\n",
      "Tempo da volta 2:  101\n",
      "Tempo da volta 3:  102\n",
      "Tempo da volta 4:  103\n",
      "Tempo da volta 5:  104\n",
      "Tempo da volta 6:  105\n",
      "Tempo da volta 7:  106\n",
      "Tempo da volta 8:  107\n",
      "Tempo da volta 9:  108\n",
      "Tempo da volta 10:  109\n",
      "Nome do corredor:  Julien\n",
      "Tempo da volta 1:  200\n",
      "Tempo da volta 2:  201\n",
      "Tempo da volta 3:  202\n",
      "Tempo da volta 4:  203\n",
      "Tempo da volta 5:  204\n",
      "Tempo da volta 6:  205\n",
      "Tempo da volta 7:  206\n",
      "Tempo da volta 8:  207\n",
      "Tempo da volta 9:  208\n",
      "Tempo da volta 10:  209\n",
      "Nome do corredor:  Allan\n",
      "Tempo da volta 1:  210\n",
      "Tempo da volta 2:  211\n",
      "Tempo da volta 3:  212\n",
      "Tempo da volta 4:  213\n",
      "Tempo da volta 5:  214\n",
      "Tempo da volta 6:  215\n",
      "Tempo da volta 7:  216\n",
      "Tempo da volta 8:  217\n",
      "Tempo da volta 9:  218\n",
      "Tempo da volta 10:  219\n",
      "Nome do corredor:  Daniel\n",
      "Tempo da volta 1:  110\n",
      "Tempo da volta 2:  111\n",
      "Tempo da volta 3:  112\n",
      "Tempo da volta 4:  113\n",
      "Tempo da volta 5:  114\n",
      "Tempo da volta 6:  115\n",
      "Tempo da volta 7:  116\n",
      "Tempo da volta 8:  117\n",
      "Tempo da volta 9:  118\n",
      "Tempo da volta 10:  119\n",
      "Nome do corredor:  Eduardo\n",
      "Tempo da volta 1:  221\n",
      "Tempo da volta 2:  220\n",
      "Tempo da volta 3:  222\n",
      "Tempo da volta 4:  223\n",
      "Tempo da volta 5:  224\n",
      "Tempo da volta 6:  225\n",
      "Tempo da volta 7:  226\n",
      "Tempo da volta 8:  227\n",
      "Tempo da volta 9:  228\n",
      "Tempo da volta 10:  229\n",
      "Nome do corredor:  Willian\n",
      "Tempo da volta 1:  120\n",
      "Tempo da volta 2:  121\n",
      "Tempo da volta 3:  122\n",
      "Tempo da volta 4:  123\n",
      "Tempo da volta 5:  124\n",
      "Tempo da volta 6:  125\n",
      "Tempo da volta 7:  126\n",
      "Tempo da volta 8:  127\n",
      "Tempo da volta 9:  128\n",
      "Tempo da volta 10:  129\n"
     ]
    },
    {
     "name": "stdout",
     "output_type": "stream",
     "text": [
      "A melhor volta da corrida foi a volta 1 do corredor Alisson.\n",
      "\n",
      "Classificação: \n",
      "\n",
      "1º - Alisson             Média: 104s\n",
      "2º - Daniel              Média: 114s\n",
      "3º - Willian             Média: 124s\n",
      "4º - Julien              Média: 204s\n",
      "5º - Allan               Média: 214s\n",
      "6º - Eduardo             Média: 224s\n"
     ]
    }
   ],
   "source": [
    "def melhor_volta(dicionario):\n",
    "    melhor_volta_tempo = 10 ** 1000000\n",
    "    melhor_volta_corredor = str\n",
    "    for k, v in dicionario.items():\n",
    "        for i in range(len(v)):\n",
    "            if melhor_volta_tempo > v[i]:\n",
    "                melhor_volta_tempo = v[i]\n",
    "                melhor_volta = i + 1\n",
    "                melhor_volta_corredor = k\n",
    "    return melhor_volta, melhor_volta_corredor\n",
    "\n",
    "def melhor_corredor(dicionario):\n",
    "    resultado = {}\n",
    "    melhor_media = 10 ** 1000000\n",
    "    melhor_corredor = ''\n",
    "    for k, v in dicionario.items():\n",
    "        qtd_voltas = len(v)\n",
    "        resultado[k] = 0\n",
    "        for i in range(qtd_voltas):\n",
    "            resultado[k] += v[i]\n",
    "        v = resultado[k]\n",
    "        media_voltas = resultado[k] / qtd_voltas\n",
    "        if media_voltas < melhor_media:\n",
    "            melhor_media =  media_voltas\n",
    "            melhor_corredor = k\n",
    "    return melhor_media, melhor_corredor\n",
    "\n",
    "dicionario = {}\n",
    "for i in range(6):\n",
    "    corredor = input('Nome do corredor: ').title()\n",
    "    voltas = []\n",
    "    for j in range(10):\n",
    "        volta = int(input(f'Tempo da volta {j + 1}: '))\n",
    "        voltas.append(volta)\n",
    "    dicionario[corredor] = voltas\n",
    "\n",
    "melhor_volta1, melhor_volta_corredor1 = melhor_volta(dicionario)\n",
    "print(f'A melhor volta da corrida foi a volta {melhor_volta1} do corredor {melhor_volta_corredor1}.')\n",
    "print('\\nClassificação: \\n')\n",
    "for i in range(6):\n",
    "    melhor_media1, melhor_corredor1 = melhor_corredor(dicionario)\n",
    "    print(f'{i + 1}º - {melhor_corredor1:<20s}Média: {melhor_media1:.0f}s')\n",
    "    del dicionario[melhor_corredor1]"
   ]
  },
  {
   "cell_type": "markdown",
   "metadata": {},
   "source": [
    "**Exercício 5.** Escreva um programa para armazenar uma agenda de telefones usando um dicionário. Cada pessoa pode ter um ou mais telefones e a chave do dicionário é o nome completo da pessoa. Seu programa deve ter as seguintes funções:\n",
    "\n",
    "    incluir_novo_nome – essa função acrescenta um novo nome na agenda, com um ou mais telefones. Ela deve receber como argumentos o nome e os telefones.\n",
    "    incluir_telefone – essa função acrescenta um telefone em um nome existente na agenda. Caso o nome não exista na agenda, você deve perguntar se a pessoa desejaincluí-lo. Caso a resposta seja afirmativa, use a função anterior para incluir o novonome.\n",
    "    excluir_telefone – essa função exclui um telefone de uma pessoa que já está na agenda. Se a pessoa tiver apenas um telefone, ela deve ser excluída da agenda.\n",
    "    excluir_nome – essa função exclui uma pessoa da agenda.\n",
    "    consultar_telefone – essa função retorna os telefones de uma pessoa na agenda."
   ]
  },
  {
   "cell_type": "code",
   "execution_count": 57,
   "metadata": {},
   "outputs": [
    {
     "name": "stdin",
     "output_type": "stream",
     "text": [
      "Escolha uma opção pelos números: \n",
      "1- Incluir novo nome \n",
      "2- Incluir telefone \n",
      "3- Excluir telefone \n",
      "4- Excluir nome \n",
      "5- Consultar telefones \n",
      "6- Parar \n",
      "Opção:  1\n",
      "Nome completo:  Alisson Fabra da Silva\n",
      "Telefone:  999990000\n",
      "Responda com S ou N. Adicionar mais um número? s\n",
      "Telefone:  909090000\n",
      "Responda com S ou N. Adicionar mais um número? n\n",
      "Escolha uma opção pelos números: \n",
      "1- Incluir novo nome \n",
      "2- Incluir telefone \n",
      "3- Excluir telefone \n",
      "4- Excluir nome \n",
      "5- Consultar telefones \n",
      "6- Parar \n",
      "Opção:  1\n",
      "Nome completo:  Rene Descartes\n",
      "Telefone:  888880000\n",
      "Responda com S ou N. Adicionar mais um número? n\n",
      "Escolha uma opção pelos números: \n",
      "1- Incluir novo nome \n",
      "2- Incluir telefone \n",
      "3- Excluir telefone \n",
      "4- Excluir nome \n",
      "5- Consultar telefones \n",
      "6- Parar \n",
      "Opção:  5\n",
      "Nome completo:  Alisson Fabra da Silva\n"
     ]
    },
    {
     "name": "stdout",
     "output_type": "stream",
     "text": [
      "['999990000', '909090000']\n"
     ]
    },
    {
     "name": "stdin",
     "output_type": "stream",
     "text": [
      "Escolha uma opção pelos números: \n",
      "1- Incluir novo nome \n",
      "2- Incluir telefone \n",
      "3- Excluir telefone \n",
      "4- Excluir nome \n",
      "5- Consultar telefones \n",
      "6- Parar \n",
      "Opção:  3\n",
      "Nome completo:  Alisson Fabra da Silva\n",
      "Telefone:  909090000\n",
      "Escolha uma opção pelos números: \n",
      "1- Incluir novo nome \n",
      "2- Incluir telefone \n",
      "3- Excluir telefone \n",
      "4- Excluir nome \n",
      "5- Consultar telefones \n",
      "6- Parar \n",
      "Opção:  5\n",
      "Nome completo:  Alisson Fabra da Silva\n"
     ]
    },
    {
     "name": "stdout",
     "output_type": "stream",
     "text": [
      "['999990000']\n"
     ]
    },
    {
     "name": "stdin",
     "output_type": "stream",
     "text": [
      "Escolha uma opção pelos números: \n",
      "1- Incluir novo nome \n",
      "2- Incluir telefone \n",
      "3- Excluir telefone \n",
      "4- Excluir nome \n",
      "5- Consultar telefones \n",
      "6- Parar \n",
      "Opção:  5\n",
      "Nome completo:  Rene Descartes\n"
     ]
    },
    {
     "name": "stdout",
     "output_type": "stream",
     "text": [
      "['888880000']\n"
     ]
    },
    {
     "name": "stdin",
     "output_type": "stream",
     "text": [
      "Escolha uma opção pelos números: \n",
      "1- Incluir novo nome \n",
      "2- Incluir telefone \n",
      "3- Excluir telefone \n",
      "4- Excluir nome \n",
      "5- Consultar telefones \n",
      "6- Parar \n",
      "Opção:  6\n"
     ]
    }
   ],
   "source": [
    "def incluir_novo_nome(dicionario):\n",
    "    nome = input('Nome completo: ').title()\n",
    "    telefones = []\n",
    "    continuar = 'S'\n",
    "    while continuar == 'S':\n",
    "        telefone = input('Telefone: ')\n",
    "        telefones.append(telefone)\n",
    "        continuar = input('Responda com S ou N. Adicionar mais um número?').upper()\n",
    "    dicionario[nome] = telefones\n",
    "\n",
    "def incluir_telefone(dicionario):\n",
    "    nome = input('Nome completo: ').title()\n",
    "    if nome in dicionario.keys():\n",
    "        telefone = input('Telefone: ')\n",
    "        dicionario[nome].append(telefone)\n",
    "    else:\n",
    "        incluir_novo_nome(dicionario)\n",
    "\n",
    "def excluir_telefone(dicionario):\n",
    "    nome = input('Nome completo: ').title()\n",
    "    telefone = input('Telefone: ')\n",
    "    if nome in dicionario.keys():\n",
    "        if telefone in dicionario[nome]:\n",
    "            dicionario[nome].remove(telefone)\n",
    "        else:\n",
    "            print('Telefone não cadastrado.')\n",
    "    else:\n",
    "        print('Pessoa não cadastrada.')\n",
    "\n",
    "def excluir_nome(dicionario):\n",
    "    nome = input('Nome completo: ').title()\n",
    "    if nome in dicionario.keys():\n",
    "        del dicionario[nome]\n",
    "    else:\n",
    "        print('Pessoa não cadastrada.')\n",
    "\n",
    "def consulta_telefone(dicionario):\n",
    "    nome = input('Nome completo: ').title()\n",
    "    if nome in dicionario.keys():\n",
    "        print(dicionario[nome])\n",
    "    else:\n",
    "        print('Pessoa não cadastrada.')\n",
    "\n",
    "agenda = {}\n",
    "while True:\n",
    "    acao = int(input('Escolha uma opção pelos números: \\n1- Incluir novo nome \\n2- Incluir telefone \\n3- Excluir telefone \\n4- Excluir nome \\n5- Consultar telefones \\n6- Parar \\nOpção: '))\n",
    "    while acao < 1 and acao > 6:\n",
    "        acao = int(input('Valor inválido, escolha a opção pelo número. Opção: '))\n",
    "    if acao == 6:\n",
    "        break\n",
    "    elif acao == 1:\n",
    "        incluir_novo_nome(agenda)\n",
    "    elif acao == 2:\n",
    "        incluir_telefone(agenda)\n",
    "    elif acao == 3:\n",
    "        excluir_telefone(agenda)\n",
    "    elif acao == 4:\n",
    "        excluir_nome(agenda)\n",
    "    elif acao == 5:\n",
    "        consulta_telefone(agenda)"
   ]
  },
  {
   "cell_type": "markdown",
   "metadata": {},
   "source": [
    "**Exercício 6.** Criar 10 frozensets com 30 números aleatórios cada, e construir um dicionário que contenha a soma de cada um deles."
   ]
  },
  {
   "cell_type": "code",
   "execution_count": 58,
   "metadata": {},
   "outputs": [
    {
     "name": "stdout",
     "output_type": "stream",
     "text": [
      "frozenset({7, 8, 12, 15, 21, 23, 32, 33, 34, 39, 40, 44, 48, 51, 57, 60, 64, 66, 67, 70, 72, 74, 77, 78, 79}): 1380\n",
      "frozenset({1, 5, 10, 21, 29, 30, 35, 39, 43, 46, 50, 53, 54, 55, 56, 57, 65, 67, 68, 71, 77, 78, 83, 88, 94}): 1515\n",
      "frozenset({5, 6, 11, 16, 17, 20, 24, 26, 27, 29, 34, 40, 42, 43, 44, 58, 64, 68, 70, 72, 82, 87, 97, 100}): 1314\n",
      "frozenset({1, 9, 10, 16, 25, 27, 29, 33, 35, 40, 44, 45, 50, 55, 57, 62, 66, 69, 75, 79, 81, 84, 87, 89, 100}): 1456\n",
      "frozenset({0, 8, 12, 15, 26, 28, 36, 50, 51, 53, 57, 58, 60, 64, 65, 68, 71, 74, 75, 76, 81, 84, 93, 96, 97, 98, 99}): 1789\n",
      "frozenset({6, 11, 19, 21, 23, 33, 38, 39, 40, 46, 50, 54, 56, 57, 60, 61, 62, 67, 69, 72, 73, 74, 75, 78, 82, 85}): 1650\n",
      "frozenset({1, 3, 4, 12, 13, 19, 22, 24, 29, 31, 37, 42, 43, 46, 49, 51, 55, 68, 72, 78, 86, 88, 92, 96}): 1282\n",
      "frozenset({0, 18, 22, 25, 27, 29, 35, 36, 50, 57, 59, 62, 64, 79, 80, 82, 83, 84, 85, 86, 87, 88, 90, 94, 100}): 1810\n",
      "frozenset({4, 8, 14, 16, 20, 29, 40, 46, 55, 56, 57, 59, 60, 63, 71, 72, 73, 75, 76, 77, 82, 85, 88, 90, 94, 97, 100}): 1789\n",
      "frozenset({1, 2, 6, 8, 11, 22, 23, 25, 31, 35, 36, 53, 55, 57, 59, 64, 65, 67, 70, 71, 73, 74, 78, 80, 82, 85, 93}): 1567\n"
     ]
    }
   ],
   "source": [
    "from random import randint\n",
    "dicionario = {}\n",
    "\n",
    "for _ in range(10):\n",
    "    lista = []\n",
    "    soma = 0\n",
    "    for _ in range(30):\n",
    "        x = randint(0, 100)\n",
    "        lista.append(x)\n",
    "        soma += x\n",
    "    fset = frozenset(lista)\n",
    "    dicionario[fset] = soma\n",
    "\n",
    "for k, v in dicionario.items():\n",
    "    print(f'{k}: {v}')"
   ]
  },
  {
   "cell_type": "markdown",
   "metadata": {},
   "source": [
    "**Exercício 7.** Implemente a classe MeuDicionario usando duas listas, uma para chave e uma para valores. Deve ser possível inserir, remover e acessar elementos no dicionário (use magic methods), além de verificar se um valor encontra-se no dicionário (em caso positivo, retorna a chave correspondente, caso contrário retorna False)."
   ]
  },
  {
   "cell_type": "code",
   "execution_count": null,
   "metadata": {},
   "outputs": [],
   "source": [
    "class MeuDicionario:\n",
    "    def __init__(self):\n",
    "        self.__chaves = []\n",
    "        self.__valores = []\n",
    "\n",
    "    def __str__(self):\n",
    "        if len(self.__chaves) == 0:\n",
    "            string = '{}'\n",
    "        else:\n",
    "            string = ''\n",
    "            for i in range(len(self.__chaves)):\n",
    "                if i == 0:\n",
    "                    if len(self.__chaves) == 1:\n",
    "                        string += '{'+str(self.__chaves[i])+': '+str(self.__valores[i])+'}'\n",
    "                    else:\n",
    "                        string += '{'+str(self.__chaves[i])+': '+str(self.__valores[i])+', '\n",
    "                elif i == len(self.__chaves) - 1:\n",
    "                    string += str(self.__chaves[i])+': '+str(self.__valores[i])+'}'\n",
    "                else:\n",
    "                    string += str(self.__chaves[i])+': '+str(self.__valores[i])+', '\n",
    "        return string\n",
    "    \n",
    "    def __getitem__(self, chave):\n",
    "        for i in range(self.__chaves):\n",
    "            if self.__chaves[i] == chave:\n",
    "                return self.__valores[i]\n",
    "    \n",
    "    def __setitem__(self, chave, valor):\n",
    "        if chave not in self.__chaves:\n",
    "            self.__chaves.append(chave)\n",
    "            self.__valores.append(valor)\n",
    "        else:\n",
    "            for i in range(len(self.__chaves)):\n",
    "                if self.__chaves[i] == chave:\n",
    "                    self.__valores[i] = valor\n",
    "\n",
    "    def __delitem__(self, chave):\n",
    "        for i in range(len(self.__chaves)):\n",
    "            if self.__chaves[i] == chave:\n",
    "                del self.__chaves[i]\n",
    "                del self.__valores[i]\n",
    "\n",
    "    def __contains__(self, valor):\n",
    "        for i in range(len(self.__valores)):\n",
    "            if self.__valores[i] == valor:\n",
    "                return True\n",
    "\n",
    "dic1 = MeuDicionario()\n",
    "dic2 = MeuDicionario()\n",
    "\n",
    "dic1['um'] = 1\n",
    "dic1['dois'] = 2\n",
    "print(dic1)\n",
    "del dic1['dois']\n",
    "print(dic1)\n",
    "print(dic2)\n",
    "T_F = 1 in dic1\n",
    "print(T_F)"
   ]
  },
  {
   "cell_type": "markdown",
   "metadata": {},
   "source": [
    "**Exercício 8.** Crie uma classe MatrizEsparsa que pode ser construida das duas formas abaixo, e contenha métodos para mostrar a matriz no formato String e também no formato de dicionário.\n",
    "\n",
    "1) receber uma dupla (tupla com 2 elementos) indicando quantas linhas e colunas tem a matriz, e um dicionário com duplas como chave (linha, coluna) e um valor numérico.\n",
    "\n",
    "2) Receber uma string no seguinte formato:\n",
    "\n",
    "    matriz = '''0 8 0 0 0 0 0 0 0\n",
    "    0 0 0 0 0 0 0 0 0\n",
    "    0 2 0 0 0 0 1 0 0\n",
    "    0 0 0 0 0 0 0 0 0\n",
    "    0 0 0 7 0 0 0 0 0\n",
    "    0 0 0 0 0 0 4 0 0'''\n",
    "*dica: use os métodos splitlines() e split da classe String, e o método get() da classe\n",
    "dict"
   ]
  },
  {
   "cell_type": "code",
   "execution_count": null,
   "metadata": {},
   "outputs": [],
   "source": [
    "class MatrizEsparsa:\n",
    "    def __init__(self):\n",
    "        self.__matriz = []\n",
    "        self.__matriz_string = ''\n",
    "        self.__dupla = tuple()\n",
    "        self.__dicionario = {}\n",
    "        \n",
    "    def construir_matriz_dicionario(self, dupla, dicionario):\n",
    "        self.__dupla = dupla\n",
    "        self.__dicionario = dicionario\n",
    "        for i in range(self.__dupla[0]):\n",
    "            linha = []\n",
    "            for j in range(self.__dupla[1]):\n",
    "                linha.append(dicionario[i + 1, j + 1])\n",
    "            self.__matriz.append(linha)\n",
    "\n",
    "    def construir_matriz_string(self, matriz_string):\n",
    "        self.__matriz_string = matriz_string\n",
    "        linhas = self.__matriz_string.splitlines()\n",
    "        for linha in linhas:\n",
    "            self.__matriz.append(linha.split())\n",
    "        for i in range(len(self.__matriz)):\n",
    "            for j in range(len(self.__matriz[0])):\n",
    "                self.__matriz[i][j] = int(self.__matriz[i][j])\n",
    "\n",
    "    def mostrar_matriz_dicionario(self):\n",
    "        for i in range(len(self.__matriz)):\n",
    "            for j in range(len(self.__matriz[i])):\n",
    "                if i == len(self.__matriz) - 1 and j == len(self.__matriz[0]) - 1:\n",
    "                    print(f'({i + 1}, {j + 1}):{self.__matriz[i][j]}'+'}')\n",
    "                elif i == 0 and j == 0:\n",
    "                    print('{'+f'({i + 1}, {j + 1}):{self.__matriz[i][j]}', end=', ')\n",
    "                else:\n",
    "                    print(f'({i + 1}, {j + 1}):{self.__matriz[i][j]}', end=', ')\n",
    "\n",
    "    def mostrar_matriz_string(self):\n",
    "        for i in range(len(self.__matriz)):\n",
    "            for j in range(len(self.__matriz[0])):\n",
    "                print(self.__matriz[i][j], end=' ')\n",
    "            print()\n",
    "\n",
    "\n",
    "matriz1 = '''0 8 0 0 0 0 0 0 0\n",
    "0 0 0 0 0 0 0 0 0\n",
    "0 2 0 0 0 0 1 0 0\n",
    "0 0 0 0 0 0 0 0 0\n",
    "0 0 0 7 0 0 0 0 0\n",
    "0 0 0 0 0 0 4 0 0'''\n",
    "\n",
    "matriz2 = '''1 2\n",
    "3 4'''\n",
    "     \n",
    "m1 = MatrizEsparsa()\n",
    "m2 = MatrizEsparsa()\n",
    "m1.construir_matriz_dicionario((2, 2), {(1, 1): 1, (1, 2): 2, (2, 1): 3, (2, 2): 4})\n",
    "m2.construir_matriz_string(matriz1)\n",
    "m1.mostrar_matriz_dicionario()\n",
    "m1.mostrar_matriz_string()\n",
    "m2.mostrar_matriz_dicionario()\n",
    "m2.mostrar_matriz_string()"
   ]
  }
 ],
 "metadata": {
  "kernelspec": {
   "display_name": "Python 3",
   "language": "python",
   "name": "python3"
  },
  "language_info": {
   "codemirror_mode": {
    "name": "ipython",
    "version": 3
   },
   "file_extension": ".py",
   "mimetype": "text/x-python",
   "name": "python",
   "nbconvert_exporter": "python",
   "pygments_lexer": "ipython3",
   "version": "3.6.7"
  }
 },
 "nbformat": 4,
 "nbformat_minor": 2
}
